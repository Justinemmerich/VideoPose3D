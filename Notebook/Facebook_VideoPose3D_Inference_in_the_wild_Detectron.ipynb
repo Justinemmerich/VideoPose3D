{
  "nbformat": 4,
  "nbformat_minor": 0,
  "metadata": {
    "colab": {
      "name": "Facebook VideoPose3D - Inference in the wild - Detectron.ipynb",
      "version": "0.3.2",
      "provenance": [],
      "include_colab_link": true
    },
    "kernelspec": {
      "name": "python2",
      "display_name": "Python 2"
    },
    "accelerator": "GPU"
  },
  "cells": [
    {
      "cell_type": "markdown",
      "metadata": {
        "id": "view-in-github",
        "colab_type": "text"
      },
      "source": [
        "<a href=\"https://colab.research.google.com/github/Justinemmerich/VideoPose3D/blob/master/Notebook/Facebook_VideoPose3D_Inference_in_the_wild_Detectron.ipynb\" target=\"_parent\"><img src=\"https://colab.research.google.com/assets/colab-badge.svg\" alt=\"Open In Colab\"/></a>"
      ]
    },
    {
      "cell_type": "code",
      "metadata": {
        "id": "yBHHFFzAagmJ",
        "colab_type": "code",
        "colab": {}
      },
      "source": [
        "!wget https://anaconda.org/pytorch/pytorch-nightly/1.2.0.dev20190722/download/linux-64/pytorch-nightly-1.2.0.dev20190722-py2.7_cuda10.0.130_cudnn7.5.1_0.tar.bz2\n",
        "!tar xvjf pytorch-nightly-1.2.0.dev20190722-py2.7_cuda10.0.130_cudnn7.5.1_0.tar.bz2\n",
        "!cp -r lib/python2.7/site-packages/* /usr/local/lib/python2.7/dist-packages/"
      ],
      "execution_count": 0,
      "outputs": []
    },
    {
      "cell_type": "code",
      "metadata": {
        "id": "3SQkqTLzbjWC",
        "colab_type": "code",
        "colab": {}
      },
      "source": [
        "# To check if Caffe2 build was successful\n",
        "!python -c 'from caffe2.python import core' 2>/dev/null && echo \"Success\" || echo \"Failure\"\n",
        "\n",
        "# To check if Caffe2 GPU build was successful\n",
        "# This must print a number > 0 in order to use Detectron\n",
        "!python -c 'from caffe2.python import workspace; print(workspace.NumCudaDevices())'"
      ],
      "execution_count": 0,
      "outputs": []
    },
    {
      "cell_type": "code",
      "metadata": {
        "id": "PoEjPt55bqix",
        "colab_type": "code",
        "colab": {}
      },
      "source": [
        "!apt-get install python-dev\n",
        "!pip install cython\n",
        "!pip install pycocotools\n",
        "!git clone https://github.com/cocodataset/cocoapi.git\n",
        "!cd cocoapi/PythonAPI && make install\n",
        "\n",
        "import os\n",
        "os.environ['COCOAPI'] = \":/content/cocoapi\""
      ],
      "execution_count": 0,
      "outputs": []
    },
    {
      "cell_type": "code",
      "metadata": {
        "id": "kZQYD_SKbw0O",
        "colab_type": "code",
        "colab": {}
      },
      "source": [
        "!git clone https://github.com/facebookresearch/detectron\n",
        "!pip install -r detectron/requirements.txt\n",
        "!cd detectron && make\n",
        "!python detectron/detectron/tests/test_spatial_narrow_as_op.py"
      ],
      "execution_count": 0,
      "outputs": []
    },
    {
      "cell_type": "code",
      "metadata": {
        "id": "6vRI4Rn3js85",
        "colab_type": "code",
        "colab": {}
      },
      "source": [
        "#copy file from VideoPose3d\n",
        "os.chdir('../')\n",
        "!git clone https://github.com/facebookresearch/VideoPose3D\n",
        "!cp VideoPose3D/inference/infer_video.py detectron/tools/infer_video.py"
      ],
      "execution_count": 0,
      "outputs": []
    },
    {
      "cell_type": "code",
      "metadata": {
        "id": "av6RLcyPmuSH",
        "colab_type": "code",
        "colab": {}
      },
      "source": [
        "!mkdir VideoPose3D/checkpoint\n",
        "os.chdir('VideoPose3D/checkpoint')\n",
        "!wget https://dl.fbaipublicfiles.com/video-pose-3d/pretrained_h36m_detectron_coco.bin"
      ],
      "execution_count": 0,
      "outputs": []
    },
    {
      "cell_type": "code",
      "metadata": {
        "id": "QHrkZReqb2er",
        "colab_type": "code",
        "colab": {}
      },
      "source": [
        "os.chdir('detectron')\n",
        "!python tools/infer_simple.py \\\n",
        "   --cfg configs/12_2017_baselines/e2e_keypoint_rcnn_R-101-FPN_s1x.yaml \\\n",
        "   --output-dir demo/output \\\n",
        "   --image-ext jpg \\\n",
        "   --wts https://s3-us-west-2.amazonaws.com/detectron/37698009/12_2017_baselines/e2e_keypoint_rcnn_R-101-FPN_s1x.yaml.08_45_57.YkrJgP6O/output/train/keypoints_coco_2014_train:keypoints_coco_2014_valminusminival/generalized_rcnn/model_final.pkl \\\n",
        "   --output-ext jpg \\\n",
        "  demo"
      ],
      "execution_count": 0,
      "outputs": []
    },
    {
      "cell_type": "code",
      "metadata": {
        "id": "Ljh6cuahb7kW",
        "colab_type": "code",
        "colab": {}
      },
      "source": [
        "from google.colab import files\n",
        "\n",
        "for file in os.listdir('demo/output'):\n",
        "  if file.endswith(('.jpg', '.pdf')):\n",
        "    files.download('demo/output/'+file)"
      ],
      "execution_count": 0,
      "outputs": []
    }
  ]
}